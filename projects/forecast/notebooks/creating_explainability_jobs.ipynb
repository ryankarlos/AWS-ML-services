{
 "cells": [
  {
   "cell_type": "code",
   "execution_count": 1,
   "id": "a2db0c36",
   "metadata": {},
   "outputs": [],
   "source": [
    "# add repo root to beginning of sys path to allow other modules to be found by python import machinery\n",
    "import sys \n",
    "import os\n",
    "import boto3\n",
    "from pathlib import Path\n",
    "sys.path\n",
    "ROOT_PATH = os.path.abspath('..')\n",
    "sys.path.insert(0, ROOT_PATH)\n",
    "RESULTS_DIR = os.path.join(str(Path(ROOT_PATH).parents[1]), 'datasets/forecasting/results')\n"
   ]
  },
  {
   "cell_type": "code",
   "execution_count": 2,
   "id": "b09521c9",
   "metadata": {},
   "outputs": [],
   "source": [
    "from create_predictor_forecast_jobs import *\n",
    "from common import *\n",
    "from teardown_resources import *\n"
   ]
  },
  {
   "cell_type": "code",
   "execution_count": 15,
   "id": "cd1635b0",
   "metadata": {},
   "outputs": [],
   "source": [
    "# forecast horizon \n",
    "FORECAST_LENGTH = 60\n",
    "# forecast time unit granularity\n",
    "DATASET_FREQUENCY = \"D\"\n",
    "TIMESTAMP_FORMAT = \"yyyy-MM-dd\"\n",
    "dataset_name = \"manning_csv_full\"\n",
    "predictor_name = f\"automl_3bt_60h_explain\"\n",
    "explain_name='explain_manning'\n",
    "explain_export_name = 'explain_manning_full_dataset_automl'\n",
    "# Specify the schema of your dataset here. Make sure the order of columns matches the raw data files.\n",
    "ts_schema ={\n",
    "   \"Attributes\":[\n",
    "      {\n",
    "         \"AttributeName\":\"item_id\",\n",
    "         \"AttributeType\":\"string\"\n",
    "      },\n",
    "      {\n",
    "         \"AttributeName\":\"timestamp\",\n",
    "         \"AttributeType\":\"timestamp\"\n",
    "      },\n",
    "      {\n",
    "         \"AttributeName\":\"target_value\",\n",
    "         \"AttributeType\":\"float\"\n",
    "      }\n",
    "\n",
    "   ]\n",
    "}\n",
    "\n",
    "\n",
    "\n",
    "role_name = \"AmazonForecast-ExecutionRole-1645141603603\"\n",
    "iam = boto3.client('iam')\n",
    "role_arn = iam.get_role(RoleName=role_name)['Role']['Arn']"
   ]
  },
  {
   "cell_type": "markdown",
   "id": "bc7ded39",
   "metadata": {},
   "source": [
    "#### Create predictor"
   ]
  },
  {
   "cell_type": "markdown",
   "id": "a5892fd7",
   "metadata": {},
   "source": [
    "Need to use auto-predictor as explainability is only supported for predictors created in auto ml mode.\n",
    "\n",
    "*Note This will take a while  to create the resource and train ~30 mins-1hr ! "
   ]
  },
  {
   "cell_type": "code",
   "execution_count": 12,
   "id": "8ecd9bac",
   "metadata": {},
   "outputs": [],
   "source": [
    "dataset_group_arn = \"arn:aws:forecast:us-east-1:376337229415:dataset-group/manning\"\n",
    "create_predictor_response , predictor_arn = train_aws_forecast_model(predictor_name, FORECAST_LENGTH, DATASET_FREQUENCY, dataset_group_arn, auto_ml=True, explain=True, holidays_code=\"US\")\n",
    "\n"
   ]
  },
  {
   "cell_type": "code",
   "execution_count": 6,
   "id": "53ed0900",
   "metadata": {},
   "outputs": [
    {
     "name": "stdout",
     "output_type": "stream",
     "text": [
      "Import job still in progress. Job status CREATE_IN_PROGRESS\n",
      "Import job still in progress. Job status CREATE_IN_PROGRESS\n",
      "Import job still in progress. Job status ACTIVE\n",
      "Training job complete with job status ACTIVE\n"
     ]
    }
   ],
   "source": [
    "check_job_status(predictor_arn, job_type=\"training\", auto_ml=True, wait_time=1200)"
   ]
  },
  {
   "cell_type": "markdown",
   "id": "3f6b512a",
   "metadata": {},
   "source": [
    "#### Create Explainability and export to S3"
   ]
  },
  {
   "cell_type": "code",
   "execution_count": 14,
   "id": "6c5d2413",
   "metadata": {},
   "outputs": [],
   "source": [
    "\n",
    "#response = create_explainability_job(explain_name, predictor_arn)\n",
    "#explain_arn = respone['ExplainabilityArn']\n",
    "explain_arn = forecast.list_explainabilities()['Explainabilities'][0]['ExplainabilityArn']"
   ]
  },
  {
   "cell_type": "code",
   "execution_count": 18,
   "id": "dc8a4188",
   "metadata": {},
   "outputs": [],
   "source": [
    "s3_export_path =  \"s3://aws-forecast-demo-examples/aws_forecast_export_jobs/\"\n",
    "\n",
    "response = forecast.create_explainability_export(\n",
    "    ExplainabilityExportName=explain_export_name,\n",
    "    ExplainabilityArn=explain_arn,\n",
    "    Destination={\n",
    "        'S3Config': {\n",
    "            'Path': s3_export_path,\n",
    "            'RoleArn': role_arn\n",
    "        }\n",
    "    }\n",
    ")\n"
   ]
  },
  {
   "cell_type": "markdown",
   "id": "18ed3342",
   "metadata": {},
   "source": [
    "#### Delete all resources"
   ]
  },
  {
   "cell_type": "markdown",
   "id": "41b0a057",
   "metadata": {},
   "source": [
    "passing in predictor arn will delete the predictor resource and all child explainability resources as per the \n",
    "parent << child resource hierarchies: Dataset << Dataset Group << Predictor << Forecast\n",
    "https://boto3.amazonaws.com/v1/documentation/api/latest/reference/services/forecast.html#ForecastService.Client.delete_resource_tree"
   ]
  },
  {
   "cell_type": "code",
   "execution_count": 3,
   "id": "92f903c7",
   "metadata": {},
   "outputs": [
    {
     "data": {
      "text/plain": [
       "{'ResponseMetadata': {'RequestId': 'c80fdc99-b39f-4ac4-8d73-1b0ded3001db',\n",
       "  'HTTPStatusCode': 200,\n",
       "  'HTTPHeaders': {'content-type': 'application/x-amz-json-1.1',\n",
       "   'date': 'Tue, 17 May 2022 03:36:34 GMT',\n",
       "   'x-amzn-requestid': 'c80fdc99-b39f-4ac4-8d73-1b0ded3001db',\n",
       "   'content-length': '0',\n",
       "   'connection': 'keep-alive'},\n",
       "  'RetryAttempts': 0}}"
      ]
     },
     "execution_count": 3,
     "metadata": {},
     "output_type": "execute_result"
    }
   ],
   "source": [
    "response = delete_resource_tree(predictor_arn)\n",
    "response"
   ]
  }
 ],
 "metadata": {
  "kernelspec": {
   "display_name": "auto-ml",
   "language": "python",
   "name": "auto-ml"
  },
  "language_info": {
   "codemirror_mode": {
    "name": "ipython",
    "version": 3
   },
   "file_extension": ".py",
   "mimetype": "text/x-python",
   "name": "python",
   "nbconvert_exporter": "python",
   "pygments_lexer": "ipython3",
   "version": "3.9.1"
  }
 },
 "nbformat": 4,
 "nbformat_minor": 5
}
