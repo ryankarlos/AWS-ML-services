{
 "cells": [
  {
   "cell_type": "code",
   "execution_count": 83,
   "id": "86facf4d",
   "metadata": {},
   "outputs": [],
   "source": [
    "import boto3\n",
    "from botocore.exceptions import WaiterError\n",
    "from botocore.waiter import WaiterModel\n",
    "from botocore.waiter import create_waiter_with_client\n",
    "from sqlalchemy import text\n",
    "import operator\n",
    "import pandas as pd\n",
    "import numpy as np\n",
    "\n",
    "redshift_data = boto3.client('redshift-data')\n",
    "redshift = boto3.client('redshift')\n",
    "forecast = boto3.client('forecast')\n",
    "iam = boto3.client('iam')\n",
    "\n",
    "s3_export_path = \"s3://aws-forecast-demo-examples/aws_forecast_export_jobs/\"\n",
    "predictor_export_name = 'manning_full_csv_predictor_backtest_export'\n",
    "forecast_export_name = 'manning_full_csv_forecast_90h'\n",
    "role_name = \"AmazonForecast-ExecutionRole-1645141603603\"\n",
    "\n",
    "role_arn = iam.get_role(RoleName=role_name)['Role']['Arn']\n",
    "predictor_arn = forecast.list_predictors()['Predictors'][0]['PredictorArn']\n"
   ]
  },
  {
   "cell_type": "markdown",
   "id": "57bcb5f3",
   "metadata": {},
   "source": [
    "### Create Export Jobs"
   ]
  },
  {
   "cell_type": "code",
   "execution_count": 14,
   "id": "3c2f5d51",
   "metadata": {},
   "outputs": [
    {
     "name": "stdout",
     "output_type": "stream",
     "text": [
      "\n"
     ]
    }
   ],
   "source": [
    "\n",
    "predictor_export = forecast.create_predictor_backtest_export_job(\n",
    "    PredictorBacktestExportJobName=predictor_export_name,\n",
    "    PredictorArn=predictor_arn,\n",
    "    Destination={\n",
    "        'S3Config': {\n",
    "            'Path': s3_export_path,\n",
    "            'RoleArn': role_arn,\n",
    "        }\n",
    "    }\n",
    ")\n",
    "\n",
    "\n",
    "forecast_export = forecast.create_forecast_export_job(\n",
    "    ForecastExportJobName=forecast_export_name,\n",
    "    ForecastArn=forecast_arn,\n",
    "    Destination={\n",
    "        'S3Config': {\n",
    "            'Path': s3_export_path,\n",
    "            'RoleArn': role_arn,\n",
    "        }\n",
    "    }\n",
    ")\n",
    "\n",
    "predictor_export_arn = predictor_export['PredictorBacktestExportJobArn']\n",
    "print(\"\")\n",
    "forecast_export_arn = forecast_export['ForecastExportJobArn']"
   ]
  },
  {
   "cell_type": "markdown",
   "id": "16319d31",
   "metadata": {},
   "source": [
    "### Check job status"
   ]
  },
  {
   "cell_type": "markdown",
   "id": "c5918e36",
   "metadata": {},
   "source": [
    "Check job status and wait for the status to show 'Active' for all before progressing to next step"
   ]
  },
  {
   "cell_type": "code",
   "execution_count": 36,
   "id": "f7a57aba",
   "metadata": {},
   "outputs": [
    {
     "name": "stdout",
     "output_type": "stream",
     "text": [
      "Forecast export job status: ACTIVE\n",
      "Predictor export job status: ACTIVE\n"
     ]
    }
   ],
   "source": [
    "import time\n",
    "\n",
    "forecast_status = None\n",
    "predictor_status = None\n",
    "status = {forecast_status, predictor_status}\n",
    "while \"ACTIVE\" not in status:\n",
    "    time.sleep(20)\n",
    "    forecast_status = forecast.describe_forecast_export_job(ForecastExportJobArn=forecast_export_arn)['Status']\n",
    "    predictor_status = forecast.describe_predictor_backtest_export_job(PredictorBacktestExportJobArn=predictor_export_arn)['Status']\n",
    "    print(f\"Forecast export job status: {forecast_status}\")\n",
    "    print(f\"Predictor export job status: {predictor_status}\")\n",
    "    status = {forecast_status, predictor_status}"
   ]
  },
  {
   "cell_type": "markdown",
   "id": "d3b5b2c5",
   "metadata": {},
   "source": [
    "### Delete export job resources "
   ]
  },
  {
   "cell_type": "code",
   "execution_count": 37,
   "id": "9496b018",
   "metadata": {},
   "outputs": [],
   "source": [
    "response = forecast.delete_forecast_export_job(\n",
    "    ForecastExportJobArn=forecast_export_arn\n",
    ")\n",
    "\n",
    "\n",
    "response = forecast.delete_predictor_backtest_export_job(\n",
    "    PredictorBacktestExportJobArn=predictor_export_arn\n",
    ")\n",
    "\n"
   ]
  },
  {
   "cell_type": "markdown",
   "id": "f4fa7e90",
   "metadata": {},
   "source": [
    "### Redshift query"
   ]
  },
  {
   "cell_type": "code",
   "execution_count": 50,
   "id": "49c0acb1",
   "metadata": {},
   "outputs": [],
   "source": [
    "cluster_id = \"<enter-cluster-id>\"\"\n",
    "db_user=\"<enter-temp-user>\"\n",
    "db = 'dev'\n",
    "response = redshift.resume_cluster(ClusterIdentifier=cluster_id)"
   ]
  },
  {
   "cell_type": "code",
   "execution_count": 61,
   "id": "c3fdd8a0",
   "metadata": {},
   "outputs": [
    {
     "data": {
      "text/plain": [
       "['catalog_history',\n",
       " 'information_schema',\n",
       " 'pg_automv',\n",
       " 'pg_catalog',\n",
       " 'pg_internal',\n",
       " 'public',\n",
       " 'spectrum']"
      ]
     },
     "execution_count": 61,
     "metadata": {},
     "output_type": "execute_result"
    }
   ],
   "source": [
    "\n",
    "redshift_data.list_schemas(\n",
    "    Database= db, \n",
    "    DbUser=db_user,\n",
    "    ClusterIdentifier= cluster_id)[\"Schemas\"]"
   ]
  },
  {
   "cell_type": "code",
   "execution_count": 97,
   "id": "c5b778e5",
   "metadata": {},
   "outputs": [
    {
     "name": "stdout",
     "output_type": "stream",
     "text": [
      "drop schema if exists spectrum_manning;\n",
      "\n",
      "create external schema spectrum_manning\n",
      "from data catalog\n",
      "database 'spectrumdb'\n",
      "iam_role 'arn:aws:iam::376337229415:role/myspectrum_role'\n",
      "create external database if not exists;\n",
      "\n",
      "drop table IF EXISTS spectrum_manning.manning;\n",
      "\n",
      "create external table spectrum_manning.manning  (item_id smallint, timestamp date, target_value float)\n",
      "row format delimited\n",
      "fields terminated by '\\t'\n",
      "stored as textfile\n",
      "location 's3://aws-forecast-demo-examples/glue_prep_for_aws_forecast/';\n",
      "\n",
      "SELECT COUNT(*)\n",
      "FROM spectrum_manning.manning\n"
     ]
    }
   ],
   "source": [
    "with open(\"../redshift/external_tables.sql\") as file:\n",
    "    query_list = text(file.read())\n",
    "print(query_list)\n",
    "query_list = str(query_list).replace('\\n', ' ').split(';')\n"
   ]
  },
  {
   "cell_type": "code",
   "execution_count": 98,
   "id": "fb941de0",
   "metadata": {},
   "outputs": [
    {
     "data": {
      "text/plain": [
       "['drop schema if exists spectrum_manning',\n",
       " \"create external schema spectrum_manning from data catalog database 'spectrumdb' iam_role 'arn:aws:iam::376337229415:role/myspectrum_role' create external database if not exists\",\n",
       " 'drop table IF EXISTS spectrum_manning.manning',\n",
       " \"create external table spectrum_manning.manning  (item_id smallint, timestamp date, target_value float) row format delimited fields terminated by '\\\\t' stored as textfile location 's3://aws-forecast-demo-examples/glue_prep_for_aws_forecast/'\",\n",
       " 'SELECT COUNT(*) FROM spectrum_manning.manning']"
      ]
     },
     "execution_count": 98,
     "metadata": {},
     "output_type": "execute_result"
    }
   ],
   "source": [
    "final_query_list = []\n",
    "for query in query_list:\n",
    "    final_query_list.append(query.strip(' '))\n",
    "\n",
    "if '' in final_query_list:\n",
    "    final_query_list.remove('')\n",
    "final_query_list"
   ]
  },
  {
   "cell_type": "code",
   "execution_count": 99,
   "id": "a75d613a",
   "metadata": {},
   "outputs": [],
   "source": [
    "# Create custom waiter for the Redshift Data API to wait for finish execution of current SQL statement\n",
    "waiter_name = 'DataAPIExecution'\n",
    "delay=2\n",
    "max_attempts=3\n",
    "\n",
    "#Configure the waiter settings\n",
    "waiter_config = {\n",
    "  'version': 2,\n",
    "  'waiters': {\n",
    "    'DataAPIExecution': {\n",
    "      'operation': 'DescribeStatement',\n",
    "      'delay': delay,\n",
    "      'maxAttempts': max_attempts,\n",
    "      'acceptors': [\n",
    "        {\n",
    "          \"matcher\": \"path\",\n",
    "          \"expected\": \"FINISHED\",\n",
    "          \"argument\": \"Status\",\n",
    "          \"state\": \"success\"\n",
    "        },\n",
    "        {\n",
    "          \"matcher\": \"pathAny\",\n",
    "          \"expected\": [\"PICKED\",\"STARTED\",\"SUBMITTED\"],\n",
    "          \"argument\": \"Status\",\n",
    "          \"state\": \"retry\"\n",
    "        },\n",
    "        {\n",
    "          \"matcher\": \"pathAny\",\n",
    "          \"expected\": [\"FAILED\",\"ABORTED\"],\n",
    "          \"argument\": \"Status\",\n",
    "          \"state\": \"failure\"\n",
    "        }\n",
    "      ],\n",
    "    },\n",
    "  },\n",
    "}\n",
    "\n",
    "\n",
    "waiter_model = WaiterModel(waiter_config)\n",
    "custom_waiter = create_waiter_with_client(waiter_name, waiter_model, redshift_data)\n"
   ]
  },
  {
   "cell_type": "code",
   "execution_count": 102,
   "id": "90445a31",
   "metadata": {},
   "outputs": [
    {
     "name": "stdout",
     "output_type": "stream",
     "text": [
      "Query: drop schema if exists spectrum_manning\n",
      "Done waiting to finish Data API.\n",
      "Status: FINISHED. Excution time: 46 miliseconds\n",
      "\n",
      "Query: create external schema spectrum_manning from data catalog database 'spectrumdb' iam_role 'arn:aws:iam::376337229415:role/myspectrum_role' create external database if not exists\n",
      "Done waiting to finish Data API.\n",
      "Status: FINISHED. Excution time: 330 miliseconds\n",
      "\n",
      "Query: drop table IF EXISTS spectrum_manning.manning\n",
      "Done waiting to finish Data API.\n",
      "Status: FINISHED. Excution time: 1030 miliseconds\n",
      "\n",
      "Query: create external table spectrum_manning.manning  (item_id smallint, timestamp date, target_value float) row format delimited fields terminated by '\\t' stored as textfile location 's3://aws-forecast-demo-examples/glue_prep_for_aws_forecast/'\n",
      "Done waiting to finish Data API.\n",
      "Status: FINISHED. Excution time: 367 miliseconds\n",
      "\n",
      "Query: SELECT COUNT(*) FROM spectrum_manning.manning\n",
      "Done waiting to finish Data API.\n",
      "Status: FINISHED. Excution time: 1718 miliseconds\n",
      "\n"
     ]
    }
   ],
   "source": [
    "for query_str in final_query_list:\n",
    "    print(f\"Query: {query_str}\")\n",
    "    res = redshift_data.execute_statement(Database= db, DbUser=db_user, Sql= query_str, ClusterIdentifier= cluster_id)\n",
    "    id = res[\"Id\"]\n",
    "    try:\n",
    "        custom_waiter.wait(Id=id)\n",
    "        print(\"Done waiting to finish Data API.\")\n",
    "    except WaiterError as e:\n",
    "        print (e)\n",
    "\n",
    "    desc=redshift_data.describe_statement(Id=id)\n",
    "    print(\"Status: \" + desc[\"Status\"] + \". Excution time: %d miliseconds\" %float(desc[\"Duration\"]/pow(10,6)))\n",
    "    print(\"\")"
   ]
  },
  {
   "cell_type": "code",
   "execution_count": 104,
   "id": "6f837cf3",
   "metadata": {},
   "outputs": [
    {
     "name": "stdout",
     "output_type": "stream",
     "text": [
      "[[{'longValue': 2886}]]\n"
     ]
    }
   ],
   "source": [
    "output=redshift_data.get_statement_result(Id=id)\n",
    "\n",
    "print(output['Records'])"
   ]
  },
  {
   "cell_type": "code",
   "execution_count": 105,
   "id": "03ea437f",
   "metadata": {},
   "outputs": [],
   "source": [
    "response = redshift.pause_cluster(\n",
    "    ClusterIdentifier='redshift-cluster'\n",
    ")\n"
   ]
  }
 ],
 "metadata": {
  "kernelspec": {
   "display_name": "auto-ml",
   "language": "python",
   "name": "auto-ml"
  },
  "language_info": {
   "codemirror_mode": {
    "name": "ipython",
    "version": 3
   },
   "file_extension": ".py",
   "mimetype": "text/x-python",
   "name": "python",
   "nbconvert_exporter": "python",
   "pygments_lexer": "ipython3",
   "version": "3.9.1"
  }
 },
 "nbformat": 4,
 "nbformat_minor": 5
}
