{
 "cells": [
  {
   "cell_type": "code",
   "execution_count": 1,
   "id": "e9004d6f",
   "metadata": {},
   "outputs": [
    {
     "name": "stdout",
     "output_type": "stream",
     "text": [
      "Starting Spark application\n"
     ]
    },
    {
     "data": {
      "text/html": [
       "<table>\n",
       "<tr><th>ID</th><th>YARN Application ID</th><th>Kind</th><th>State</th><th>Spark UI</th><th>Driver log</th><th>User</th><th>Current session?</th></tr><tr><td>4</td><td>application_1656022456925_0005</td><td>pyspark</td><td>idle</td><td><a target=\"_blank\" href=\"http://ip-172-35-75-149.ec2.internal:20888/proxy/application_1656022456925_0005/\">Link</a></td><td><a target=\"_blank\" href=\"http://ip-172-35-146-107.ec2.internal:8042/node/containerlogs/container_1656022456925_0005_01_000001/livy\">Link</a></td><td>None</td><td>✔</td></tr></table>"
      ],
      "text/plain": [
       "<IPython.core.display.HTML object>"
      ]
     },
     "metadata": {},
     "output_type": "display_data"
    },
    {
     "data": {
      "application/vnd.jupyter.widget-view+json": {
       "model_id": "",
       "version_major": 2,
       "version_minor": 0
      },
      "text/plain": [
       "FloatProgress(value=0.0, bar_style='info', description='Progress:', layout=Layout(height='25px', width='50%'),…"
      ]
     },
     "metadata": {},
     "output_type": "display_data"
    },
    {
     "name": "stdout",
     "output_type": "stream",
     "text": [
      "SparkSession available as 'spark'.\n"
     ]
    },
    {
     "data": {
      "application/vnd.jupyter.widget-view+json": {
       "model_id": "",
       "version_major": 2,
       "version_minor": 0
      },
      "text/plain": [
       "FloatProgress(value=0.0, bar_style='info', description='Progress:', layout=Layout(height='25px', width='50%'),…"
      ]
     },
     "metadata": {},
     "output_type": "display_data"
    }
   ],
   "source": [
    "import sys\n",
    "from awsglue.transforms import *\n",
    "from awsglue.utils import getResolvedOptions\n",
    "from pyspark.context import SparkContext\n",
    "from awsglue.context import GlueContext\n",
    "from awsglue.job import Job\n",
    "from awsglue import DynamicFrame\n",
    "import boto3\n",
    "import os \n",
    "\n",
    "# uncomment this for debugging and experimenting\n",
    "\n",
    "args = {}\n",
    "args[\"fraud_samples\"] = 12\n",
    "args[\"legit_samples\"] = 130\n",
    "args[\"bucket\"] = \"fraud-sample-data\"\n",
    "args[\"train-source-key\"] = \"input/fraudTrain.csv\"\n",
    "args[\"test-source-key\"] = \"input/fraudTest.csv\"\n",
    "args[\"train-dest-key\"] = \"input/fraudTrain_glue_transformed.csv\"\n",
    "args[\"test-dest-key\"]=  \"input/fraudTest_glue_transformed.csv\"\n",
    "args[\"train_max_cut_off\"]= \"2020-04-30 00:00:00\"\n",
    "args[\"test_min_cut_off\"]= \"2020-08-30 00:00:00\"\n",
    "\n",
    "\n",
    "\n",
    "sc = SparkContext.getOrCreate()\n",
    "glueContext = GlueContext(sc)\n",
    "spark = glueContext.spark_session\n",
    "\n",
    "# uncomment this for running job in glue\n",
    "\n",
    "#job = Job(glueContext)\n",
    "#args = getResolvedOptions(sys.argv, [\"JOB_NAME\", \"train-source\", \"test-source\", \"train-dest\",\"test-dest\", \"train_max_cut_off\", \"test_min_cut_off\"])\n",
    "#job.init(args[\"JOB_NAME\"], args)\n",
    "\n"
   ]
  },
  {
   "cell_type": "code",
   "execution_count": 2,
   "id": "c2bc5412",
   "metadata": {},
   "outputs": [
    {
     "data": {
      "application/vnd.jupyter.widget-view+json": {
       "model_id": "",
       "version_major": 2,
       "version_minor": 0
      },
      "text/plain": [
       "FloatProgress(value=0.0, bar_style='info', description='Progress:', layout=Layout(height='25px', width='50%'),…"
      ]
     },
     "metadata": {},
     "output_type": "display_data"
    }
   ],
   "source": [
    "\n",
    "def sparkUnion(glueContext, unionType, mapping, transformation_ctx) -> DynamicFrame:\n",
    "    for alias, frame in mapping.items():\n",
    "        frame.toDF().createOrReplaceTempView(alias)\n",
    "    result = spark.sql(\n",
    "        \"(select * from source1) UNION \" + unionType + \" (select * from source2)\"\n",
    "    )\n",
    "    return DynamicFrame.fromDF(result, glueContext, transformation_ctx)\n",
    "\n",
    "\n",
    "def sparkSqlQuery(glueContext, query, mapping, transformation_ctx) -> DynamicFrame:\n",
    "    for alias, frame in mapping.items():\n",
    "        frame.toDF().createOrReplaceTempView(alias)\n",
    "    result = spark.sql(query)\n",
    "    return DynamicFrame.fromDF(result, glueContext, transformation_ctx)\n",
    "\n",
    "\n",
    "def write_output_to_s3(dyf, s3_path, prefix, renamed_key, transformation_ctx):\n",
    "    \n",
    "    client = boto3.client('s3')\n",
    "    resource = boto3.resource('s3')\n",
    "\n",
    "    print(f\"saving dyanmic frame to S3 bucket with prefix path: {prefix}\")\n",
    "    # Script generated for node S3 bucket\n",
    "    S3bucket_dyf = glueContext.write_dynamic_frame.from_options(\n",
    "        frame=dyf ,\n",
    "        connection_type=\"s3\",\n",
    "        format=\"csv\",\n",
    "        connection_options={\"path\": s3_path},\n",
    "        transformation_ctx=transformation_ctx,\n",
    "    )\n",
    "\n",
    "    #https://boto3.amazonaws.com/v1/documentation/api/latest/reference/services/s3.html#S3.Client.copy\n",
    "    response = client.list_objects(\n",
    "        Bucket=args['bucket'],\n",
    "        Prefix=f\"{prefix}/run-\",\n",
    "    )\n",
    "\n",
    "    objectkey_to_rename = response['Contents'][0]['Key']\n",
    "\n",
    "    copy_output = {\n",
    "        'Bucket': args['bucket'],\n",
    "        'Key': objectkey_to_rename\n",
    "    }\n",
    "\n",
    "    print(f\"renaming filename to {renamed_key} as glue output filename is random\")\n",
    "\n",
    "    resource.meta.client.copy(copy_output, args['bucket'], renamed_key)\n",
    "    print(f\"deleting original output {objectkey_to_rename}....\")\n",
    "    response = client.delete_object(\n",
    "        Bucket=args['bucket'],\n",
    "        Key=objectkey_to_rename \n",
    "    )\n",
    "    \n",
    "# set these but they should not overlap\n",
    "TRAIN_MAX_TIMESTAMP = args[\"train_max_cut_off\"]\n",
    "TEST_MIN_TIMESTAMP = args[\"test_min_cut_off\"]\n",
    "\n",
    "fraud_samples = args[\"fraud_samples\"]\n",
    "legit_samples = args[\"legit_samples\"]\n",
    "\n",
    "\n",
    "# Script generated for node SQL\n",
    "SqlQuery0 = f'''\n",
    "select * from \n",
    "(\n",
    "    (\n",
    "    select * from myDataSource\n",
    "    where EVENT_LABEL == 'fraud'\n",
    "    order BY RAND() \n",
    "    limit {fraud_samples}\n",
    "    ) \n",
    "    union all\n",
    "    (\n",
    "    select * from myDataSource\n",
    "    where EVENT_LABEL == 'legit'\n",
    "    order BY RAND() \n",
    "    limit {legit_samples}\n",
    "    )\n",
    ")\n",
    "\n",
    "'''\n"
   ]
  },
  {
   "cell_type": "code",
   "execution_count": 3,
   "id": "3bfdfd25",
   "metadata": {},
   "outputs": [
    {
     "data": {
      "application/vnd.jupyter.widget-view+json": {
       "model_id": "",
       "version_major": 2,
       "version_minor": 0
      },
      "text/plain": [
       "FloatProgress(value=0.0, bar_style='info', description='Progress:', layout=Layout(height='25px', width='50%'),…"
      ]
     },
     "metadata": {},
     "output_type": "display_data"
    },
    {
     "name": "stdout",
     "output_type": "stream",
     "text": [
      "1852394"
     ]
    }
   ],
   "source": [
    "\n",
    "bucket = args['bucket']\n",
    "train_input_key = args[\"train-source-key\"]\n",
    "test_input_key = args[\"test-source-key\"]\n",
    "\n",
    "\n",
    "train_dyF = glueContext.create_dynamic_frame.from_options(\n",
    "        's3',\n",
    "        {'paths': [f\"s3://{bucket}/{train_input_key}\"]},\n",
    "        'csv',\n",
    "        {'withHeader': True})\n",
    "test_dyF = glueContext.create_dynamic_frame.from_options(\n",
    "        's3',\n",
    "        {'paths': [f\"s3://{bucket}/{test_input_key}\"]},\n",
    "        'csv',\n",
    "        {'withHeader': True})\n",
    "\n",
    "\n",
    "Union_node_dyf = sparkUnion(\n",
    "    glueContext,\n",
    "    unionType=\"ALL\",\n",
    "    mapping={\n",
    "        \"source1\": train_dyF,\n",
    "        \"source2\": test_dyF,\n",
    "    },\n",
    "    transformation_ctx=\"Union_train_test\",\n",
    ")\n",
    "\n",
    "\n",
    "Union_node_dyf.count()\n"
   ]
  },
  {
   "cell_type": "code",
   "execution_count": 4,
   "id": "e9c0bb66",
   "metadata": {},
   "outputs": [
    {
     "data": {
      "application/vnd.jupyter.widget-view+json": {
       "model_id": "",
       "version_major": 2,
       "version_minor": 0
      },
      "text/plain": [
       "FloatProgress(value=0.0, bar_style='info', description='Progress:', layout=Layout(height='25px', width='50%'),…"
      ]
     },
     "metadata": {},
     "output_type": "display_data"
    },
    {
     "name": "stdout",
     "output_type": "stream",
     "text": [
      "root\n",
      "|-- trans_date_trans_time: timestamp\n",
      "|-- cc_num: long\n",
      "|-- merchant: string\n",
      "|-- category: string\n",
      "|-- amt: float\n",
      "|-- first: string\n",
      "|-- late: string\n",
      "|-- gender: string\n",
      "|-- street: string\n",
      "|-- city: string\n",
      "|-- state: string\n",
      "|-- zip: int\n",
      "|-- lat: float\n",
      "|-- long: float\n",
      "|-- city_pop: int\n",
      "|-- job: string\n",
      "|-- dob: date\n",
      "|-- trans_num: string\n",
      "|-- unix_time: int\n",
      "|-- merch_lat: float\n",
      "|-- merch_long: float\n",
      "|-- is_fraud: binary"
     ]
    }
   ],
   "source": [
    "\n",
    "mappings=[\n",
    "        (\"trans_date_trans_time\", \"string\", \"trans_date_trans_time\", \"timestamp\"),\n",
    "        (\"cc_num\", \"string\", \"cc_num\", \"bigint\"),\n",
    "        (\"merchant\", \"string\", \"merchant\", \"string\"),\n",
    "        (\"category\", \"string\", \"category\", \"string\"),\n",
    "        (\"amt\", \"string\", \"amt\", \"float\"),\n",
    "        (\"first\", \"string\", \"first\", \"string\"),\n",
    "        (\"late\", \"string\", \"late\", \"string\"),\n",
    "        (\"gender\", \"string\", \"gender\", \"string\"),\n",
    "        (\"street\", \"string\", \"street\", \"string\"),\n",
    "        (\"city\", \"string\", \"city\", \"string\"),\n",
    "        (\"state\", \"string\", \"state\", \"string\"),\n",
    "        (\"zip\", \"string\", \"zip\", \"int\"),\n",
    "        (\"lat\", \"string\", \"lat\", \"float\"),\n",
    "        (\"long\", \"string\", \"long\", \"float\"),\n",
    "        (\"city_pop\", \"string\", \"city_pop\", \"int\"),\n",
    "        (\"job\", \"string\", \"job\", \"string\"),\n",
    "        (\"dob\", \"string\", \"dob\", \"date\"),\n",
    "        (\"trans_num\", \"string\", \"trans_num\", \"string\"),\n",
    "        (\"unix_time\", \"string\", \"unix_time\", \"int\"),\n",
    "        (\"merch_lat\", \"string\", \"merch_lat\", \"float\"),\n",
    "        (\"merch_long\", \"string\", \"merch_long\", \"float\"),\n",
    "        (\"is_fraud\", \"string\", \"is_fraud\", \"binary\"),\n",
    "]\n",
    "\n",
    "# Script generated for node ApplyMapping\n",
    "ApplyMapping_dyf = ApplyMapping.apply(\n",
    "    frame=Union_node_dyf,\n",
    "    mappings=mappings,\n",
    "    transformation_ctx=\"ApplyMapping\",\n",
    ")\n",
    "ApplyMapping_dyf.printSchema()\n",
    "\n"
   ]
  },
  {
   "cell_type": "code",
   "execution_count": 5,
   "id": "b5eb1176",
   "metadata": {},
   "outputs": [
    {
     "data": {
      "application/vnd.jupyter.widget-view+json": {
       "model_id": "",
       "version_major": 2,
       "version_minor": 0
      },
      "text/plain": [
       "FloatProgress(value=0.0, bar_style='info', description='Progress:', layout=Layout(height='25px', width='50%'),…"
      ]
     },
     "metadata": {},
     "output_type": "display_data"
    },
    {
     "name": "stdout",
     "output_type": "stream",
     "text": [
      "root\n",
      "|-- trans_date_trans_time: timestamp\n",
      "|-- cc_num: long\n",
      "|-- merchant: string\n",
      "|-- category: string\n",
      "|-- amt: float\n",
      "|-- first: string\n",
      "|-- late: string\n",
      "|-- gender: string\n",
      "|-- street: string\n",
      "|-- city: string\n",
      "|-- state: string\n",
      "|-- zip: int\n",
      "|-- city_pop: int\n",
      "|-- job: string\n",
      "|-- trans_num: string\n",
      "|-- is_fraud: binary"
     ]
    }
   ],
   "source": [
    "\n",
    "# Script generated for node Drop Fields\n",
    "DropFields_dyf = DropFields.apply(\n",
    "    frame=ApplyMapping_dyf,\n",
    "    paths=['col0', \"merch_lat\",  \"merch_long\",\"lat\",\"long\",\"unix_time\", \"dob\"],\n",
    "    transformation_ctx=\"DropFields\",\n",
    ")\n",
    "\n",
    "DropFields_dyf.printSchema()"
   ]
  },
  {
   "cell_type": "code",
   "execution_count": 6,
   "id": "9e94f18b",
   "metadata": {},
   "outputs": [
    {
     "data": {
      "application/vnd.jupyter.widget-view+json": {
       "model_id": "",
       "version_major": 2,
       "version_minor": 0
      },
      "text/plain": [
       "FloatProgress(value=0.0, bar_style='info', description='Progress:', layout=Layout(height='25px', width='50%'),…"
      ]
     },
     "metadata": {},
     "output_type": "display_data"
    },
    {
     "name": "stdout",
     "output_type": "stream",
     "text": [
      "root\n",
      "|-- cc_num: long\n",
      "|-- merchant: string\n",
      "|-- category: string\n",
      "|-- amt: float\n",
      "|-- first: string\n",
      "|-- gender: string\n",
      "|-- street: string\n",
      "|-- city: string\n",
      "|-- state: string\n",
      "|-- zip: int\n",
      "|-- city_pop: int\n",
      "|-- job: string\n",
      "|-- trans_num: string\n",
      "|-- EVENT_TIMESTAMP: timestamp\n",
      "|-- EVENT_LABEL: binary"
     ]
    }
   ],
   "source": [
    "# Script generated for node Rename Field\n",
    "RenameField_timestamp= RenameField.apply(\n",
    "    frame=DropFields_dyf,\n",
    "    old_name=\"trans_date_trans_time\",\n",
    "    new_name=\"EVENT_TIMESTAMP\",\n",
    "    transformation_ctx=\"RenameField_timestamp\",\n",
    ")\n",
    "\n",
    "# Script generated for node Rename Field\n",
    "RenameField_label= RenameField.apply(\n",
    "    frame=RenameField_timestamp,\n",
    "    old_name=\"is_fraud\",\n",
    "    new_name=\"EVENT_LABEL\",\n",
    "    transformation_ctx=\"RenameField_label\",\n",
    ")\n",
    "\n",
    "RenameField_label.printSchema()"
   ]
  },
  {
   "cell_type": "code",
   "execution_count": 7,
   "id": "83cc0e56",
   "metadata": {},
   "outputs": [
    {
     "data": {
      "application/vnd.jupyter.widget-view+json": {
       "model_id": "",
       "version_major": 2,
       "version_minor": 0
      },
      "text/plain": [
       "FloatProgress(value=0.0, bar_style='info', description='Progress:', layout=Layout(height='25px', width='50%'),…"
      ]
     },
     "metadata": {},
     "output_type": "display_data"
    },
    {
     "name": "stdout",
     "output_type": "stream",
     "text": [
      "+-------------------+-----------+\n",
      "|EVENT_TIMESTAMP    |EVENT_LABEL|\n",
      "+-------------------+-----------+\n",
      "|2020-04-29 23:59:18|legit      |\n",
      "|2020-04-29 23:58:29|fraud      |\n",
      "|2020-04-29 23:58:25|legit      |\n",
      "|2020-04-29 23:58:21|legit      |\n",
      "|2020-04-29 23:57:55|legit      |\n",
      "|2020-04-29 23:57:55|legit      |\n",
      "|2020-04-29 23:57:48|legit      |\n",
      "|2020-04-29 23:57:47|legit      |\n",
      "|2020-04-29 23:56:49|fraud      |\n",
      "|2020-04-29 23:56:45|legit      |\n",
      "|2020-04-29 23:55:03|legit      |\n",
      "|2020-04-29 23:52:52|legit      |\n",
      "|2020-04-29 23:52:46|legit      |\n",
      "|2020-04-29 23:51:29|legit      |\n",
      "|2020-04-29 23:50:06|legit      |\n",
      "|2020-04-29 23:49:59|legit      |\n",
      "|2020-04-29 23:49:39|legit      |\n",
      "|2020-04-29 23:46:49|legit      |\n",
      "|2020-04-29 23:46:18|fraud      |\n",
      "|2020-04-29 23:44:47|legit      |\n",
      "+-------------------+-----------+\n",
      "only showing top 20 rows"
     ]
    }
   ],
   "source": [
    "from pyspark.sql.functions import *\n",
    "\n",
    "df = RenameField_label.toDF()\n",
    "\n",
    "train_df = df.filter(df.EVENT_TIMESTAMP <  \"2020-04-30 00:00:00\").withColumn(\"EVENT_LABEL\", when(df.EVENT_LABEL == '0',\"legit\").when(df.EVENT_LABEL == '1',\"fraud \"))\n",
    "test_df = df.filter(df.EVENT_TIMESTAMP >  \"2020-08-30 00:00:00\").withColumn(\"EVENT_LABEL\", when(df.EVENT_LABEL == '0',\"legit\").when(df.EVENT_LABEL == '1',\"fraud \"))\n",
    "\n",
    "train_df.select(col('EVENT_TIMESTAMP'), col('EVENT_LABEL')).orderBy(desc('EVENT_TIMESTAMP')).show(truncate=False)"
   ]
  },
  {
   "cell_type": "code",
   "execution_count": 8,
   "id": "09d223b9",
   "metadata": {},
   "outputs": [
    {
     "data": {
      "application/vnd.jupyter.widget-view+json": {
       "model_id": "",
       "version_major": 2,
       "version_minor": 0
      },
      "text/plain": [
       "FloatProgress(value=0.0, bar_style='info', description='Progress:', layout=Layout(height='25px', width='50%'),…"
      ]
     },
     "metadata": {},
     "output_type": "display_data"
    },
    {
     "name": "stdout",
     "output_type": "stream",
     "text": [
      "130"
     ]
    }
   ],
   "source": [
    "\n",
    "test_dyf = DynamicFrame.fromDF(test_df, glueContext, \"test_dyf\")\n",
    "train_dyf = DynamicFrame.fromDF(train_df, glueContext, \"train_dyf\")\n",
    "\n",
    "sampled_test_dyf = sparkSqlQuery(glueContext, query = SqlQuery0, mapping = {\"myDataSource\":test_dyf}, transformation_ctx = \"SQLQuery_test_sample\")\n",
    "sampled_test_dyf.count()\n"
   ]
  },
  {
   "cell_type": "code",
   "execution_count": 9,
   "id": "16ef7f92",
   "metadata": {},
   "outputs": [
    {
     "data": {
      "application/vnd.jupyter.widget-view+json": {
       "model_id": "",
       "version_major": 2,
       "version_minor": 0
      },
      "text/plain": [
       "FloatProgress(value=0.0, bar_style='info', description='Progress:', layout=Layout(height='25px', width='50%'),…"
      ]
     },
     "metadata": {},
     "output_type": "display_data"
    },
    {
     "name": "stdout",
     "output_type": "stream",
     "text": [
      "+-------------------+--------------------+--------------+------+-------+------+--------------------+-------------+-----+-----+--------+--------------------+--------------------+-------------------+-----------+\n",
      "|             cc_num|            merchant|      category|   amt|  first|gender|              street|         city|state|  zip|city_pop|                 job|           trans_num|    EVENT_TIMESTAMP|EVENT_LABEL|\n",
      "+-------------------+--------------------+--------------+------+-------+------+--------------------+-------------+-----+-----+--------+--------------------+--------------------+-------------------+-----------+\n",
      "|   4228411452607671|  fraud_Torp-Labadie| gas_transport| 96.73|  Aaron|     M|     400 Zuniga Pine|     Winthrop|   ME| 4364|    6025|Advertising accou...|f93e733026c817de0...|2020-10-24 09:58:05|      legit|\n",
      "|   3589289942931264|    fraud_Metz-Boehm|  shopping_pos|  4.19|  Paula|     F|     350 Stacy Glens|      Spencer|   SD|57374|     343|Development worke...|227942f163274ef3d...|2020-12-07 21:22:33|      legit|\n",
      "|      4760122961662|fraud_Bernhard, G...|  shopping_pos|   3.9| Robert|     M|4602 Lopez Glens ...|      Arcadia|   OH|44804|    1202|             Curator|da3b1aa59f9a5a7d6...|2020-10-15 11:28:30|      legit|\n",
      "|4512828414983801773|   fraud_Waelchi Inc|     kids_pets| 42.91| Monica|     F| 864 Reynolds Plains|        Uledi|   PA|15484|     328|        Tree surgeon|475bdb2cd114c0e59...|2020-10-12 17:14:34|      legit|\n",
      "|   4424338559877976|fraud_Hettinger, ...|          home| 26.08| Denise|     F| 23220 Eaton Harbors|        Kirby|   OH|43330|     118|Private music tea...|77b8fa624d40d000c...|2020-12-01 22:25:55|      legit|\n",
      "|   3589255887819806| fraud_Berge-Ullrich|          home| 27.91|  David|     M|622 Bradley Knoll...|      Hancock|   MD|21750|    3766|  Press photographer|cd435dcdb200d5a72...|2020-12-06 20:13:38|      legit|\n",
      "|   5388659976630693|fraud_Romaguera, ...|  shopping_net| 36.66|Charles|     M| 5364 William Harbor|       Seneca|   WI|54654|     153|   Quantity surveyor|d11ca61d5d1af4f1a...|2020-09-20 07:43:08|      legit|\n",
      "|    213102873001603| fraud_Dickinson Ltd| personal_care| 15.21| Joanne|     F|477 Alejandro Kno...|     Gardiner|   OR|97441|     260|Engineer, mainten...|2d0be91b818c2ce8e...|2020-11-30 13:44:26|      legit|\n",
      "|   3541160328600277|    fraud_Mohr-Bayer|  shopping_net|  58.3|  Jason|     M|      4720 Anna Ways|  Murrayville|   IL|62668|    1512|Commercial/reside...|39dd30c49cf6edbe1...|2020-10-25 13:07:02|      legit|\n",
      "|     30118423745458|   fraud_Kerluke Inc|      misc_net|341.42|  Jared|     M| 01479 Murray Circle|      Matawan|   NJ| 7747|   30770|   Drilling engineer|ec9c65c2e690c7a2e...|2020-12-24 06:46:23|      legit|\n",
      "|    180058696935600|fraud_Raynor, Fee...| gas_transport| 61.81|Richard|     M|1339 Johnson Land...|    De Lancey|   NY|13752|     782|Chartered accountant|72e2a1c321c1db2d9...|2020-12-30 02:52:06|      legit|\n",
      "|   3542162746848552|fraud_Streich, Ha...| gas_transport| 48.47|Bradley|     M|   3896 Gilmore Mill|       Emmons|   MN|56029|     744|Communications en...|a81baf556a64f78dd...|2020-11-24 02:12:22|      legit|\n",
      "|     30364087349027| fraud_Cassin-Harvey|   grocery_net| 25.22| Samuel|     M|  0005 Morrison Land|       Mounds|   OK|74047|    7163|Fitness centre ma...|f66a8887fdbeacee6...|2020-11-27 07:01:42|      legit|\n",
      "|    180049032966888|  fraud_Kling-Ernser| entertainment|  72.5|Michael|     M|70761 Fitzpatrick...|        Saxon|   WI|54559|     795|Television/film/v...|159b3bdcb5f3a5bb9...|2020-11-08 13:40:47|      legit|\n",
      "|   5359543825610251|fraud_Dare, Frits...|health_fitness| 56.41|Michael|     M|1833 Jeanette Str...|     Belgrade|   MT|59714|   18182|  Engineer, drilling|b30c3473031c45e1b...|2020-12-31 16:59:35|      legit|\n",
      "|   3553629419254918|     fraud_Fahey Inc|     kids_pets| 36.99| Sharon|     F|  7202 Jeffrey Mills|       Conway|   WA|98238|      85|Research officer,...|69de39c9a62d54400...|2020-12-28 13:39:03|      legit|\n",
      "|     36485887555770|    fraud_Barton Inc|   grocery_pos| 47.27|Michael|     M|230 Ryan Tunnel A...|       Fulton|   OH|43321|     267|  Facilities manager|a3711e3930890dab8...|2020-11-30 01:54:35|      legit|\n",
      "|   3567527758368741|    fraud_Jacobi Inc|health_fitness| 89.49| Amanda|     F|14601 Downs Skywa...|Sterling City|   TX|76951|    1143|Scientist, biomed...|da81dcdaff49e1923...|2020-09-17 12:23:57|      legit|\n",
      "|   6517217825320610|    fraud_Bruen-Yost|      misc_pos|  9.37|  James|     M|26975 Richardson ...|       Sontag|   MS|39665|    1196| Librarian, academic|dbd474a2205140407...|2020-09-13 09:59:33|      legit|\n",
      "|   2248735346244816|fraud_Thompson-Gl...|health_fitness| 17.06|  Jacob|     M|29156 Mark Park A...|        Utica|   KS|67584|     269|Product/process d...|3da9caebc84b6312e...|2020-11-12 16:42:49|      legit|\n",
      "+-------------------+--------------------+--------------+------+-------+------+--------------------+-------------+-----+-----+--------+--------------------+--------------------+-------------------+-----------+\n",
      "only showing top 20 rows"
     ]
    }
   ],
   "source": [
    "sampled_test_dyf.toDF().show()"
   ]
  },
  {
   "cell_type": "code",
   "execution_count": 10,
   "id": "1a7395ce",
   "metadata": {},
   "outputs": [
    {
     "data": {
      "application/vnd.jupyter.widget-view+json": {
       "model_id": "",
       "version_major": 2,
       "version_minor": 0
      },
      "text/plain": [
       "FloatProgress(value=0.0, bar_style='info', description='Progress:', layout=Layout(height='25px', width='50%'),…"
      ]
     },
     "metadata": {},
     "output_type": "display_data"
    }
   ],
   "source": [
    "#reparition to single df to avoid saving multiple paritions in s3 bucket\n",
    "\n",
    "single_part_train_dyf = DynamicFrame.fromDF(train_dyf.toDF().repartition(1), glueContext, \"single_partition_train\")\n",
    "single_part_test_dyf = DynamicFrame.fromDF(sampled_test_dyf.toDF().repartition(1), glueContext, \"single_partition_test_sample\")\n",
    "\n"
   ]
  },
  {
   "cell_type": "code",
   "execution_count": 11,
   "id": "7d95244b",
   "metadata": {},
   "outputs": [
    {
     "data": {
      "application/vnd.jupyter.widget-view+json": {
       "model_id": "",
       "version_major": 2,
       "version_minor": 0
      },
      "text/plain": [
       "FloatProgress(value=0.0, bar_style='info', description='Progress:', layout=Layout(height='25px', width='50%'),…"
      ]
     },
     "metadata": {},
     "output_type": "display_data"
    },
    {
     "name": "stdout",
     "output_type": "stream",
     "text": [
      "\n",
      "Saving training data ......\n",
      "saving dyanmic frame to S3 bucket with prefix path: input\n",
      "renaming filename to input/fraudTrain_glue_transformed.csv as glue output filename is random\n",
      "deleting original output input/run-1656030714912-part-r-00003...."
     ]
    }
   ],
   "source": [
    "\n",
    "train_dest_split = args[\"train-dest-key\"].split('/')\n",
    "train_filename = train_dest_split.pop(-1)\n",
    "renamed_key = args['train-dest-key']\n",
    "transformation_ctx = \"S3bucket_write_train_dyf\"\n",
    "prefix = '/'.join(train_dest_split)\n",
    "s3_path = os.path.join(\"s3://\", args[\"bucket\"], prefix)\n",
    "\n",
    "print(\"\")\n",
    "print(\"Saving training data ......\")\n",
    "write_output_to_s3(train_dyf, s3_path, prefix, renamed_key, transformation_ctx)\n"
   ]
  },
  {
   "cell_type": "code",
   "execution_count": 12,
   "id": "47400dbb",
   "metadata": {},
   "outputs": [
    {
     "data": {
      "application/vnd.jupyter.widget-view+json": {
       "model_id": "",
       "version_major": 2,
       "version_minor": 0
      },
      "text/plain": [
       "FloatProgress(value=0.0, bar_style='info', description='Progress:', layout=Layout(height='25px', width='50%'),…"
      ]
     },
     "metadata": {},
     "output_type": "display_data"
    },
    {
     "name": "stdout",
     "output_type": "stream",
     "text": [
      "Saving test data ......\n",
      "saving dyanmic frame to S3 bucket with prefix path: input\n",
      "renaming filename to input/fraudTest_glue_transformed.csv as glue output filename is random\n",
      "deleting original output input/run-1656030714912-part-r-00004...."
     ]
    }
   ],
   "source": [
    "test_dest_split = args[\"test-dest-key\"].split('/')\n",
    "test_filename = test_dest_split.pop(-1)\n",
    "renamed_key = args['test-dest-key']\n",
    "transformation_ctx = \"S3bucket_write_test_dyf\"\n",
    "prefix = '/'.join(test_dest_split)\n",
    "\n",
    "print(\"Saving test data ......\")\n",
    "write_output_to_s3(sampled_test_dyf, s3_path, prefix, renamed_key, transformation_ctx)\n"
   ]
  },
  {
   "cell_type": "code",
   "execution_count": 13,
   "id": "a7d767fa",
   "metadata": {},
   "outputs": [
    {
     "data": {
      "application/vnd.jupyter.widget-view+json": {
       "model_id": "",
       "version_major": 2,
       "version_minor": 0
      },
      "text/plain": [
       "FloatProgress(value=0.0, bar_style='info', description='Progress:', layout=Layout(height='25px', width='50%'),…"
      ]
     },
     "metadata": {},
     "output_type": "display_data"
    }
   ],
   "source": [
    "#uncomment this when running job in glue\n",
    "#job.commit()"
   ]
  }
 ],
 "metadata": {
  "kernelspec": {
   "display_name": "Sparkmagic (PySpark)",
   "language": "python",
   "name": "pysparkkernel"
  },
  "language_info": {
   "codemirror_mode": {
    "name": "python",
    "version": 3
   },
   "file_extension": ".py",
   "mimetype": "text/x-python",
   "name": "pyspark",
   "pygments_lexer": "python3"
  }
 },
 "nbformat": 4,
 "nbformat_minor": 5
}
