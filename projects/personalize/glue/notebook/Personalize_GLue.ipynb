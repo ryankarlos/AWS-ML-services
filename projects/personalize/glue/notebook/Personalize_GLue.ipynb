{
 "cells": [
  {
   "cell_type": "code",
   "execution_count": 1,
   "id": "3eb6db76",
   "metadata": {},
   "outputs": [
    {
     "name": "stdout",
     "output_type": "stream",
     "text": [
      "Starting Spark application\n"
     ]
    },
    {
     "data": {
      "text/html": [
       "<table>\n",
       "<tr><th>ID</th><th>YARN Application ID</th><th>Kind</th><th>State</th><th>Spark UI</th><th>Driver log</th><th>User</th><th>Current session?</th></tr><tr><td>0</td><td>application_1657151034518_0001</td><td>pyspark</td><td>idle</td><td><a target=\"_blank\" href=\"http://ip-172-35-85-70.ec2.internal:20888/proxy/application_1657151034518_0001/\">Link</a></td><td><a target=\"_blank\" href=\"http://ip-172-35-196-96.ec2.internal:8042/node/containerlogs/container_1657151034518_0001_01_000001/livy\">Link</a></td><td>None</td><td>✔</td></tr></table>"
      ],
      "text/plain": [
       "<IPython.core.display.HTML object>"
      ]
     },
     "metadata": {},
     "output_type": "display_data"
    },
    {
     "data": {
      "application/vnd.jupyter.widget-view+json": {
       "model_id": "",
       "version_major": 2,
       "version_minor": 0
      },
      "text/plain": [
       "FloatProgress(value=0.0, bar_style='info', description='Progress:', layout=Layout(height='25px', width='50%'),…"
      ]
     },
     "metadata": {},
     "output_type": "display_data"
    },
    {
     "name": "stdout",
     "output_type": "stream",
     "text": [
      "SparkSession available as 'spark'.\n"
     ]
    },
    {
     "data": {
      "application/vnd.jupyter.widget-view+json": {
       "model_id": "",
       "version_major": 2,
       "version_minor": 0
      },
      "text/plain": [
       "FloatProgress(value=0.0, bar_style='info', description='Progress:', layout=Layout(height='25px', width='50%'),…"
      ]
     },
     "metadata": {},
     "output_type": "display_data"
    }
   ],
   "source": [
    "import sys\n",
    "from awsglue.transforms import *\n",
    "from awsglue.utils import getResolvedOptions\n",
    "from pyspark.context import SparkContext\n",
    "from awsglue.context import GlueContext\n",
    "from awsglue.job import Job\n",
    "from awsglue.dynamicframe import DynamicFrameCollection\n",
    "from awsglue.dynamicframe import DynamicFrame\n",
    "\n"
   ]
  },
  {
   "cell_type": "code",
   "execution_count": 7,
   "id": "45522431",
   "metadata": {},
   "outputs": [
    {
     "data": {
      "application/vnd.jupyter.widget-view+json": {
       "model_id": "",
       "version_major": 2,
       "version_minor": 0
      },
      "text/plain": [
       "FloatProgress(value=0.0, bar_style='info', description='Progress:', layout=Layout(height='25px', width='50%'),…"
      ]
     },
     "metadata": {},
     "output_type": "display_data"
    }
   ],
   "source": [
    "sc = SparkContext.getOrCreate() \n",
    "glueContext = GlueContext(sc)\n",
    "spark = glueContext.spark_session"
   ]
  },
  {
   "cell_type": "code",
   "execution_count": 8,
   "id": "5d190fbe",
   "metadata": {},
   "outputs": [
    {
     "data": {
      "application/vnd.jupyter.widget-view+json": {
       "model_id": "",
       "version_major": 2,
       "version_minor": 0
      },
      "text/plain": [
       "FloatProgress(value=0.0, bar_style='info', description='Progress:', layout=Layout(height='25px', width='50%'),…"
      ]
     },
     "metadata": {},
     "output_type": "display_data"
    }
   ],
   "source": [
    "\n",
    "# Script generated for node Rename Interactions file in S3\n",
    "def RenameS3ItemsUsersData(glueContext, dfc) -> DynamicFrameCollection:\n",
    "    BUCKET_NAME = \"recommendation-sample-data\"\n",
    "    PREFIX = \"movie-lens/transformed/model_input/run-\"\n",
    "    S3_PATH = \"s3://recommendation-sample-data/movie-lens/transformed/model_input/\"\n",
    "    import boto3\n",
    "\n",
    "    client = boto3.client(\"s3\")\n",
    "    S3bucket_dyf = glueContext.write_dynamic_frame.from_options(\n",
    "        frame=dfc,\n",
    "        connection_type=\"s3\",\n",
    "        format=\"csv\",\n",
    "        connection_options={\"path\": S3_PATH},\n",
    "    )\n",
    "\n",
    "    response = client.list_objects(Bucket=BUCKET_NAME, Prefix=PREFIX,)\n",
    "    name = response[\"Contents\"][0][\"Key\"]\n",
    "    print(name)\n",
    "\n",
    "    client.copy_object(\n",
    "        Bucket=BUCKET_NAME,\n",
    "        CopySource=f\"{BUCKET_NAME}/{name}\",\n",
    "        Key=\"movie-lens/transformed/model_input/interactions.csv\",\n",
    "    )\n",
    "    client.delete_object(Bucket=BUCKET_NAME, Key=name)\n",
    "\n",
    "\n",
    "def RenameS3Metadata(glueContext, dfc) -> DynamicFrameCollection:\n",
    "    BUCKET_NAME = \"recommendation-sample-data\"\n",
    "    PREFIX = \"movie-lens/transformed/metadata/run-\"\n",
    "    S3_PATH = \"s3://recommendation-sample-data/movie-lens/transformed/metadata/\"\n",
    "    import boto3\n",
    "\n",
    "    client = boto3.client(\"s3\")\n",
    "    S3bucket_dyf = glueContext.write_dynamic_frame.from_options(\n",
    "        frame=dfc,\n",
    "        connection_type=\"s3\",\n",
    "        format=\"csv\",\n",
    "        connection_options={\"path\": S3_PATH},\n",
    "    )\n",
    "\n",
    "    response = client.list_objects(Bucket=BUCKET_NAME, Prefix=PREFIX,)\n",
    "    name = response[\"Contents\"][0][\"Key\"]\n",
    "    print(name)\n",
    "\n",
    "    client.copy_object(\n",
    "        Bucket=BUCKET_NAME,\n",
    "        CopySource=f\"{BUCKET_NAME}/{name}\",\n",
    "        Key=\"movie-lens/transformed/metadata/metadata.csv\",\n",
    "    )\n",
    "    client.delete_object(Bucket=BUCKET_NAME, Key=name)\n"
   ]
  },
  {
   "cell_type": "code",
   "execution_count": 9,
   "id": "45722f76",
   "metadata": {},
   "outputs": [
    {
     "data": {
      "application/vnd.jupyter.widget-view+json": {
       "model_id": "",
       "version_major": 2,
       "version_minor": 0
      },
      "text/plain": [
       "FloatProgress(value=0.0, bar_style='info', description='Progress:', layout=Layout(height='25px', width='50%'),…"
      ]
     },
     "metadata": {},
     "output_type": "display_data"
    }
   ],
   "source": [
    "# Script generated for node S3 input movies\n",
    "S3inputmovies_node1656882361110 = glueContext.create_dynamic_frame.from_options(\n",
    "    format_options={\n",
    "        \"quoteChar\": '\"',\n",
    "        \"withHeader\": True,\n",
    "        \"separator\": \",\",\n",
    "        \"optimizePerformance\": True,\n",
    "    },\n",
    "    connection_type=\"s3\",\n",
    "    format=\"csv\",\n",
    "    connection_options={\n",
    "        \"paths\": [\"s3://recommendation-sample-data/movie-lens/raw_data/movies.csv\"]\n",
    "    },\n",
    "    transformation_ctx=\"S3inputmovies_node1656882361110\",\n",
    ")\n",
    "\n",
    "# Script generated for node S3 input ratings\n",
    "S3inputratings_node1656882568718 = glueContext.create_dynamic_frame.from_options(\n",
    "    format_options={\n",
    "        \"quoteChar\": '\"',\n",
    "        \"withHeader\": True,\n",
    "        \"separator\": \",\",\n",
    "        \"optimizePerformance\": False,\n",
    "    },\n",
    "    connection_type=\"s3\",\n",
    "    format=\"csv\",\n",
    "    connection_options={\n",
    "        \"paths\": [\"s3://recommendation-sample-data/movie-lens/raw_data/ratings.csv\"],\n",
    "        \"recurse\": True,\n",
    "    },\n",
    "    transformation_ctx=\"S3inputratings_node1656882568718\",\n",
    ")\n"
   ]
  },
  {
   "cell_type": "code",
   "execution_count": 10,
   "id": "067a421f",
   "metadata": {},
   "outputs": [
    {
     "data": {
      "application/vnd.jupyter.widget-view+json": {
       "model_id": "",
       "version_major": 2,
       "version_minor": 0
      },
      "text/plain": [
       "FloatProgress(value=0.0, bar_style='info', description='Progress:', layout=Layout(height='25px', width='50%'),…"
      ]
     },
     "metadata": {},
     "output_type": "display_data"
    },
    {
     "name": "stdout",
     "output_type": "stream",
     "text": [
      "+------+-------+------+----------+\n",
      "|userId|movieId|rating| timestamp|\n",
      "+------+-------+------+----------+\n",
      "|     1|    296|   5.0|1147880044|\n",
      "|     1|    306|   3.5|1147868817|\n",
      "|     1|    307|   5.0|1147868828|\n",
      "|     1|    665|   5.0|1147878820|\n",
      "|     1|    899|   3.5|1147868510|\n",
      "|     1|   1088|   4.0|1147868495|\n",
      "|     1|   1175|   3.5|1147868826|\n",
      "|     1|   1217|   3.5|1147878326|\n",
      "|     1|   1237|   5.0|1147868839|\n",
      "|     1|   1250|   4.0|1147868414|\n",
      "|     1|   1260|   3.5|1147877857|\n",
      "|     1|   1653|   4.0|1147868097|\n",
      "|     1|   2011|   2.5|1147868079|\n",
      "|     1|   2012|   2.5|1147868068|\n",
      "|     1|   2068|   2.5|1147869044|\n",
      "|     1|   2161|   3.5|1147868609|\n",
      "|     1|   2351|   4.5|1147877957|\n",
      "|     1|   2573|   4.0|1147878923|\n",
      "|     1|   2632|   5.0|1147878248|\n",
      "|     1|   2692|   5.0|1147869100|\n",
      "+------+-------+------+----------+\n",
      "only showing top 20 rows"
     ]
    }
   ],
   "source": [
    "S3inputratings_node1656882568718.toDF().show()"
   ]
  },
  {
   "cell_type": "code",
   "execution_count": 13,
   "id": "24dc16c2",
   "metadata": {},
   "outputs": [
    {
     "data": {
      "application/vnd.jupyter.widget-view+json": {
       "model_id": "",
       "version_major": 2,
       "version_minor": 0
      },
      "text/plain": [
       "FloatProgress(value=0.0, bar_style='info', description='Progress:', layout=Layout(height='25px', width='50%'),…"
      ]
     },
     "metadata": {},
     "output_type": "display_data"
    },
    {
     "name": "stdout",
     "output_type": "stream",
     "text": [
      "+-------+--------------------+--------------------+\n",
      "|movieId|               title|              genres|\n",
      "+-------+--------------------+--------------------+\n",
      "|      1|    Toy Story (1995)|Adventure|Animati...|\n",
      "|      2|      Jumanji (1995)|Adventure|Childre...|\n",
      "|      3|Grumpier Old Men ...|      Comedy|Romance|\n",
      "|      4|Waiting to Exhale...|Comedy|Drama|Romance|\n",
      "|      5|Father of the Bri...|              Comedy|\n",
      "|      6|         Heat (1995)|Action|Crime|Thri...|\n",
      "|      7|      Sabrina (1995)|      Comedy|Romance|\n",
      "|      8| Tom and Huck (1995)|  Adventure|Children|\n",
      "|      9| Sudden Death (1995)|              Action|\n",
      "|     10|    GoldenEye (1995)|Action|Adventure|...|\n",
      "|     11|American Presiden...|Comedy|Drama|Romance|\n",
      "|     12|Dracula: Dead and...|       Comedy|Horror|\n",
      "|     13|        Balto (1995)|Adventure|Animati...|\n",
      "|     14|        Nixon (1995)|               Drama|\n",
      "|     15|Cutthroat Island ...|Action|Adventure|...|\n",
      "|     16|       Casino (1995)|         Crime|Drama|\n",
      "|     17|Sense and Sensibi...|       Drama|Romance|\n",
      "|     18|   Four Rooms (1995)|              Comedy|\n",
      "|     19|Ace Ventura: When...|              Comedy|\n",
      "|     20|  Money Train (1995)|Action|Comedy|Cri...|\n",
      "+-------+--------------------+--------------------+\n",
      "only showing top 20 rows"
     ]
    }
   ],
   "source": [
    "S3inputmovies_node1656882361110.toDF().show()"
   ]
  },
  {
   "cell_type": "code",
   "execution_count": 25,
   "id": "b585e669",
   "metadata": {},
   "outputs": [
    {
     "data": {
      "application/vnd.jupyter.widget-view+json": {
       "model_id": "",
       "version_major": 2,
       "version_minor": 0
      },
      "text/plain": [
       "FloatProgress(value=0.0, bar_style='info', description='Progress:', layout=Layout(height='25px', width='50%'),…"
      ]
     },
     "metadata": {},
     "output_type": "display_data"
    },
    {
     "name": "stdout",
     "output_type": "stream",
     "text": [
      "12499397"
     ]
    }
   ],
   "source": [
    "\n",
    "resampledratings_dyf = DynamicFrame.fromDF(\n",
    "    S3inputratings_node1656882568718.toDF().sample(False, 0.5, seed=0),\n",
    "    glueContext,\n",
    "    \"resampled ratings\",\n",
    ")\n",
    "\n",
    "\n",
    "resampledratings_dyf.toDF().count()"
   ]
  },
  {
   "cell_type": "code",
   "execution_count": 26,
   "id": "c9cdf101",
   "metadata": {},
   "outputs": [
    {
     "data": {
      "application/vnd.jupyter.widget-view+json": {
       "model_id": "",
       "version_major": 2,
       "version_minor": 0
      },
      "text/plain": [
       "FloatProgress(value=0.0, bar_style='info', description='Progress:', layout=Layout(height='25px', width='50%'),…"
      ]
     },
     "metadata": {},
     "output_type": "display_data"
    },
    {
     "name": "stdout",
     "output_type": "stream",
     "text": [
      "11"
     ]
    }
   ],
   "source": [
    "resampledratings_dyf.toDF().rdd.getNumPartitions()"
   ]
  },
  {
   "cell_type": "code",
   "execution_count": 28,
   "id": "94ef1890",
   "metadata": {},
   "outputs": [
    {
     "data": {
      "application/vnd.jupyter.widget-view+json": {
       "model_id": "",
       "version_major": 2,
       "version_minor": 0
      },
      "text/plain": [
       "FloatProgress(value=0.0, bar_style='info', description='Progress:', layout=Layout(height='25px', width='50%'),…"
      ]
     },
     "metadata": {},
     "output_type": "display_data"
    },
    {
     "name": "stdout",
     "output_type": "stream",
     "text": [
      "100"
     ]
    }
   ],
   "source": [
    "repartitioned_df = resampledratings_dyf.toDF().repartition(100)\n",
    "repartitioned_df.rdd.getNumPartitions()"
   ]
  },
  {
   "cell_type": "code",
   "execution_count": 29,
   "id": "a82a4008",
   "metadata": {},
   "outputs": [
    {
     "data": {
      "application/vnd.jupyter.widget-view+json": {
       "model_id": "",
       "version_major": 2,
       "version_minor": 0
      },
      "text/plain": [
       "FloatProgress(value=0.0, bar_style='info', description='Progress:', layout=Layout(height='25px', width='50%'),…"
      ]
     },
     "metadata": {},
     "output_type": "display_data"
    }
   ],
   "source": [
    "\n",
    "repartitioned_dyf = DynamicFrame.fromDF(\n",
    "    repartitioned_df,\n",
    "    glueContext,\n",
    "    \"repartitioned ratings\",\n",
    ")\n"
   ]
  },
  {
   "cell_type": "code",
   "execution_count": 30,
   "id": "5f7aee12",
   "metadata": {},
   "outputs": [
    {
     "data": {
      "application/vnd.jupyter.widget-view+json": {
       "model_id": "",
       "version_major": 2,
       "version_minor": 0
      },
      "text/plain": [
       "FloatProgress(value=0.0, bar_style='info', description='Progress:', layout=Layout(height='25px', width='50%'),…"
      ]
     },
     "metadata": {},
     "output_type": "display_data"
    }
   ],
   "source": [
    "# Script generated for node Renamed keys for Join\n",
    "RenamedkeysforJoin_node1656883045941 = ApplyMapping.apply(\n",
    "    frame=repartitioned_dyf,\n",
    "    mappings=[\n",
    "        (\"userId\", \"bigint\", \"userId\", \"long\"),\n",
    "        (\"movieId\", \"bigint\", \"`(right) movieId`\", \"long\"),\n",
    "        (\"rating\", \"double\", \"rating\", \"double\"),\n",
    "        (\"timestamp\", \"bigint\", \"timestamp\", \"long\"),\n",
    "    ],\n",
    "    transformation_ctx=\"RenamedkeysforJoin_node1656883045941\",\n",
    ")\n",
    "\n",
    "# Script generated for node Join\n",
    "Join_node1656883036773 = Join.apply(\n",
    "    frame1=S3inputmovies_node1656882361110,\n",
    "    frame2=RenamedkeysforJoin_node1656883045941,\n",
    "    keys1=[\"movieId\"],\n",
    "    keys2=[\"`(right) movieId`\"],\n",
    "    transformation_ctx=\"Join_node1656883036773\",\n",
    ")\n",
    "\n",
    "\n"
   ]
  },
  {
   "cell_type": "code",
   "execution_count": 31,
   "id": "9c90e145",
   "metadata": {},
   "outputs": [
    {
     "data": {
      "application/vnd.jupyter.widget-view+json": {
       "model_id": "",
       "version_major": 2,
       "version_minor": 0
      },
      "text/plain": [
       "FloatProgress(value=0.0, bar_style='info', description='Progress:', layout=Layout(height='25px', width='50%'),…"
      ]
     },
     "metadata": {},
     "output_type": "display_data"
    },
    {
     "name": "stdout",
     "output_type": "stream",
     "text": [
      "+------+-------+---------------+--------------------+----------+------+--------------------+\n",
      "|rating|movieId|(right) movieId|              genres| timestamp|userId|               title|\n",
      "+------+-------+---------------+--------------------+----------+------+--------------------+\n",
      "|   4.5| 106762|         106762|Action|Animation|...|1504559851| 91125|Trigun: Badlands ...|\n",
      "|   5.0| 106762|         106762|Action|Animation|...|1415284955|145973|Trigun: Badlands ...|\n",
      "|   2.5| 106762|         106762|Action|Animation|...|1419349432|101717|Trigun: Badlands ...|\n",
      "|   5.0| 106762|         106762|Action|Animation|...|1433294957|134922|Trigun: Badlands ...|\n",
      "|   2.0| 106762|         106762|Action|Animation|...|1520621207|139005|Trigun: Badlands ...|\n",
      "|   0.5| 106762|         106762|Action|Animation|...|1439247185|  5848|Trigun: Badlands ...|\n",
      "|   1.0| 106762|         106762|Action|Animation|...|1431401515| 17140|Trigun: Badlands ...|\n",
      "|   4.5| 106762|         106762|Action|Animation|...|1453609507|  8979|Trigun: Badlands ...|\n",
      "|   2.5| 106762|         106762|Action|Animation|...|1553496981|160024|Trigun: Badlands ...|\n",
      "|   0.5| 106762|         106762|Action|Animation|...|1397500014| 76148|Trigun: Badlands ...|\n",
      "|   1.0| 106762|         106762|Action|Animation|...|1556709417| 25299|Trigun: Badlands ...|\n",
      "|   3.0| 106762|         106762|Action|Animation|...|1443961273| 12276|Trigun: Badlands ...|\n",
      "|   4.0| 106762|         106762|Action|Animation|...|1458613030| 77242|Trigun: Badlands ...|\n",
      "|   3.5| 106762|         106762|Action|Animation|...|1439825772|138732|Trigun: Badlands ...|\n",
      "|   3.5| 106762|         106762|Action|Animation|...|1437934976|150657|Trigun: Badlands ...|\n",
      "|   4.5| 106762|         106762|Action|Animation|...|1532089121| 83788|Trigun: Badlands ...|\n",
      "|   3.0| 106762|         106762|Action|Animation|...|1480731014|157246|Trigun: Badlands ...|\n",
      "|   0.5| 106762|         106762|Action|Animation|...|1437450340| 36324|Trigun: Badlands ...|\n",
      "|   4.0| 106762|         106762|Action|Animation|...|1434038695| 62814|Trigun: Badlands ...|\n",
      "|   5.0| 106762|         106762|Action|Animation|...|1445836415|158995|Trigun: Badlands ...|\n",
      "+------+-------+---------------+--------------------+----------+------+--------------------+\n",
      "only showing top 20 rows"
     ]
    }
   ],
   "source": [
    "Join_node1656883036773.toDF().show()"
   ]
  },
  {
   "cell_type": "code",
   "execution_count": 32,
   "id": "13cde80a",
   "metadata": {},
   "outputs": [
    {
     "data": {
      "application/vnd.jupyter.widget-view+json": {
       "model_id": "",
       "version_major": 2,
       "version_minor": 0
      },
      "text/plain": [
       "FloatProgress(value=0.0, bar_style='info', description='Progress:', layout=Layout(height='25px', width='50%'),…"
      ]
     },
     "metadata": {},
     "output_type": "display_data"
    }
   ],
   "source": [
    "# Script generated for node Split Fields\n",
    "SplitFields_node1656884127492 = SplitFields.apply(\n",
    "    frame=Join_node1656883036773,\n",
    "    paths=[\"genres\", \"title\", \"`(right) movieId`\"],\n",
    "    name2=\"SplitFields_node16568841274921\",\n",
    "    name1=\"SplitFields_node16568841274920\",\n",
    "    transformation_ctx=\"SplitFields_node1656884127492\",\n",
    ")\n",
    "\n",
    "# Script generated for node Dataframe interactions\n",
    "Dataframeinteractions_node1656884315834 = SelectFromCollection.apply(\n",
    "    dfc=SplitFields_node1656884127492,\n",
    "    key=list(SplitFields_node1656884127492.keys())[1],\n",
    "    transformation_ctx=\"Dataframeinteractions_node1656884315834\",\n",
    ")\n",
    "\n",
    "# Script generated for node Dataframe movie metadata\n",
    "Dataframemoviemetadata_node1656884256844 = SelectFromCollection.apply(\n",
    "    dfc=SplitFields_node1656884127492,\n",
    "    key=list(SplitFields_node1656884127492.keys())[0],\n",
    "    transformation_ctx=\"Dataframemoviemetadata_node1656884256844\",\n",
    ")"
   ]
  },
  {
   "cell_type": "code",
   "execution_count": 42,
   "id": "e19e28ea",
   "metadata": {},
   "outputs": [
    {
     "data": {
      "application/vnd.jupyter.widget-view+json": {
       "model_id": "",
       "version_major": 2,
       "version_minor": 0
      },
      "text/plain": [
       "FloatProgress(value=0.0, bar_style='info', description='Progress:', layout=Layout(height='25px', width='50%'),…"
      ]
     },
     "metadata": {},
     "output_type": "display_data"
    },
    {
     "name": "stdout",
     "output_type": "stream",
     "text": [
      "+------+-------+---------------+----------+------+\n",
      "|rating|movieId|(right) movieId| timestamp|userId|\n",
      "+------+-------+---------------+----------+------+\n",
      "|   3.0| 106762|           null|1480731014|157246|\n",
      "|   0.5| 106762|           null|1437450340| 36324|\n",
      "|   4.0| 106762|           null|1434038695| 62814|\n",
      "|   5.0| 106762|           null|1445836415|158995|\n",
      "|   5.0| 106762|           null|1433005541| 67807|\n",
      "|   4.0| 106762|           null|1557752520|121438|\n",
      "|   3.0| 106762|           null|1386049801| 82330|\n",
      "|   4.0| 106762|           null|1454446066|140141|\n",
      "|   2.5| 106762|           null|1528669610| 84763|\n",
      "|   3.0| 106762|           null|1435164653| 29819|\n",
      "|   5.0| 106762|           null|1420576510| 65332|\n",
      "|   3.0| 106762|           null|1425799783|119423|\n",
      "|   5.0| 106762|           null|1450074381|117798|\n",
      "|   4.0| 106762|           null|1496535846| 74077|\n",
      "|   4.5| 106762|           null|1386191480| 22716|\n",
      "|   5.0| 106762|           null|1535858318| 90257|\n",
      "|   4.0| 106762|           null|1453027397| 15780|\n",
      "|   4.5| 106762|           null|1509552870| 98119|\n",
      "|   4.5| 106762|           null|1424654795|122391|\n",
      "|   3.0| 106762|           null|1428443350|132651|\n",
      "+------+-------+---------------+----------+------+\n",
      "only showing top 20 rows"
     ]
    }
   ],
   "source": [
    "Dataframeinteractions_node1656884315834.toDF().show()"
   ]
  },
  {
   "cell_type": "code",
   "execution_count": 52,
   "id": "004f1adb",
   "metadata": {},
   "outputs": [
    {
     "data": {
      "application/vnd.jupyter.widget-view+json": {
       "model_id": "",
       "version_major": 2,
       "version_minor": 0
      },
      "text/plain": [
       "FloatProgress(value=0.0, bar_style='info', description='Progress:', layout=Layout(height='25px', width='50%'),…"
      ]
     },
     "metadata": {},
     "output_type": "display_data"
    },
    {
     "name": "stdout",
     "output_type": "stream",
     "text": [
      "root\n",
      "|-- rating: string\n",
      "|-- movieId: string\n",
      "|-- (right) movieId: string\n",
      "|-- timestamp: string\n",
      "|-- userId: string"
     ]
    }
   ],
   "source": [
    "Dataframeinteractions_node1656884315834.printSchema()"
   ]
  },
  {
   "cell_type": "code",
   "execution_count": 40,
   "id": "f654c99d",
   "metadata": {},
   "outputs": [
    {
     "data": {
      "application/vnd.jupyter.widget-view+json": {
       "model_id": "",
       "version_major": 2,
       "version_minor": 0
      },
      "text/plain": [
       "FloatProgress(value=0.0, bar_style='info', description='Progress:', layout=Layout(height='25px', width='50%'),…"
      ]
     },
     "metadata": {},
     "output_type": "display_data"
    },
    {
     "name": "stdout",
     "output_type": "stream",
     "text": [
      "+--------------------+--------------------+---------------+\n",
      "|              genres|               title|(right) movieId|\n",
      "+--------------------+--------------------+---------------+\n",
      "|Action|Animation|...|Trigun: Badlands ...|         106762|\n",
      "|Action|Animation|...|Trigun: Badlands ...|         106762|\n",
      "|Action|Animation|...|Trigun: Badlands ...|         106762|\n",
      "|Action|Animation|...|Trigun: Badlands ...|         106762|\n",
      "|Action|Animation|...|Trigun: Badlands ...|         106762|\n",
      "|Action|Animation|...|Trigun: Badlands ...|         106762|\n",
      "|Action|Animation|...|Trigun: Badlands ...|         106762|\n",
      "|Action|Animation|...|Trigun: Badlands ...|         106762|\n",
      "|Action|Animation|...|Trigun: Badlands ...|         106762|\n",
      "|Action|Animation|...|Trigun: Badlands ...|         106762|\n",
      "|Action|Animation|...|Trigun: Badlands ...|         106762|\n",
      "|Action|Animation|...|Trigun: Badlands ...|         106762|\n",
      "|Action|Animation|...|Trigun: Badlands ...|         106762|\n",
      "|Action|Animation|...|Trigun: Badlands ...|         106762|\n",
      "|Action|Animation|...|Trigun: Badlands ...|         106762|\n",
      "|Action|Animation|...|Trigun: Badlands ...|         106762|\n",
      "|Action|Animation|...|Trigun: Badlands ...|         106762|\n",
      "|Action|Animation|...|Trigun: Badlands ...|         106762|\n",
      "|Action|Animation|...|Trigun: Badlands ...|         106762|\n",
      "|Action|Animation|...|Trigun: Badlands ...|         106762|\n",
      "+--------------------+--------------------+---------------+\n",
      "only showing top 20 rows"
     ]
    }
   ],
   "source": [
    "Dataframemoviemetadata_node1656884256844.toDF().show()"
   ]
  },
  {
   "cell_type": "code",
   "execution_count": 49,
   "id": "03062acd",
   "metadata": {},
   "outputs": [
    {
     "data": {
      "application/vnd.jupyter.widget-view+json": {
       "model_id": "",
       "version_major": 2,
       "version_minor": 0
      },
      "text/plain": [
       "FloatProgress(value=0.0, bar_style='info', description='Progress:', layout=Layout(height='25px', width='50%'),…"
      ]
     },
     "metadata": {},
     "output_type": "display_data"
    },
    {
     "name": "stdout",
     "output_type": "stream",
     "text": [
      "root\n",
      "|-- genres: string\n",
      "|-- title: string\n",
      "|-- (right) movieId: string"
     ]
    }
   ],
   "source": [
    "Dataframemoviemetadata_node1656884256844.printSchema()"
   ]
  },
  {
   "cell_type": "code",
   "execution_count": 53,
   "id": "d641f947",
   "metadata": {},
   "outputs": [
    {
     "data": {
      "application/vnd.jupyter.widget-view+json": {
       "model_id": "",
       "version_major": 2,
       "version_minor": 0
      },
      "text/plain": [
       "FloatProgress(value=0.0, bar_style='info', description='Progress:', layout=Layout(height='25px', width='50%'),…"
      ]
     },
     "metadata": {},
     "output_type": "display_data"
    }
   ],
   "source": [
    "\n",
    "# Script generated for node Map field names interactions\n",
    "Mapfieldnamesinteractions_node1656884351305 = ApplyMapping.apply(\n",
    "    frame=Dataframeinteractions_node1656884315834,\n",
    "    mappings=[\n",
    "        (\"movieId\", \"string\", \"ITEM_ID\", \"long\"),\n",
    "        (\"userId\", \"string\", \"USER_ID\", \"long\"),\n",
    "        (\"timestamp\", \"string\", \"TIMESTAMP\", \"long\"),\n",
    "        \n",
    "    ],\n",
    "    transformation_ctx=\"Mapfieldnamesinteractions_node1656884351305\",\n",
    ")\n",
    "\n",
    "# Script generated for node Map field name metdata\n",
    "Mapfieldnamemetdata_node1656884427706 = ApplyMapping.apply(\n",
    "    frame=Dataframemoviemetadata_node1656884256844,\n",
    "    mappings=[\n",
    "        (\"title\", \"string\", \"TITLE\", \"string\"),\n",
    "        (\"genres\", \"string\", \"GENRES\", \"string\"),\n",
    "        (\"(right) movieId\", \"string\", \"ITEM_ID\", \"long\"),\n",
    "    ],\n",
    "    transformation_ctx=\"Mapfieldnamemetdata_node1656884427706\",\n",
    ")\n"
   ]
  },
  {
   "cell_type": "code",
   "execution_count": 54,
   "id": "40e37c9a",
   "metadata": {},
   "outputs": [
    {
     "data": {
      "application/vnd.jupyter.widget-view+json": {
       "model_id": "",
       "version_major": 2,
       "version_minor": 0
      },
      "text/plain": [
       "FloatProgress(value=0.0, bar_style='info', description='Progress:', layout=Layout(height='25px', width='50%'),…"
      ]
     },
     "metadata": {},
     "output_type": "display_data"
    },
    {
     "name": "stdout",
     "output_type": "stream",
     "text": [
      "+-------+-------+----------+\n",
      "|ITEM_ID|USER_ID| TIMESTAMP|\n",
      "+-------+-------+----------+\n",
      "| 106762|  74077|1496535846|\n",
      "| 106762| 132651|1428443350|\n",
      "| 106762|   1503|1452521031|\n",
      "| 106762|  44082|1418442247|\n",
      "| 106762| 160858|1451072553|\n",
      "| 106762|  97683|1422134736|\n",
      "| 106762| 139738|1461955501|\n",
      "| 106762| 110859|1425957928|\n",
      "| 106762|  71097|1407963127|\n",
      "| 106762| 111872|1454639949|\n",
      "| 106762| 119242|1454743840|\n",
      "| 106762| 133451|1465645950|\n",
      "| 106762|  42942|1547733733|\n",
      "| 106762|  62107|1452183293|\n",
      "| 106762| 123451|1426477840|\n",
      "| 106762| 136478|1458422250|\n",
      "| 106762| 157275|1549957787|\n",
      "| 106762|  90691|1501465858|\n",
      "| 106762|  82184|1434373183|\n",
      "| 106762| 124482|1550738855|\n",
      "+-------+-------+----------+\n",
      "only showing top 20 rows"
     ]
    }
   ],
   "source": [
    "Mapfieldnamesinteractions_node1656884351305.toDF().show()"
   ]
  },
  {
   "cell_type": "code",
   "execution_count": 51,
   "id": "4243fa70",
   "metadata": {},
   "outputs": [
    {
     "data": {
      "application/vnd.jupyter.widget-view+json": {
       "model_id": "",
       "version_major": 2,
       "version_minor": 0
      },
      "text/plain": [
       "FloatProgress(value=0.0, bar_style='info', description='Progress:', layout=Layout(height='25px', width='50%'),…"
      ]
     },
     "metadata": {},
     "output_type": "display_data"
    },
    {
     "name": "stdout",
     "output_type": "stream",
     "text": [
      "+--------------------+--------------------+-------+\n",
      "|               TITLE|              GENRES|ITEM_ID|\n",
      "+--------------------+--------------------+-------+\n",
      "|Trigun: Badlands ...|Action|Animation|...| 106762|\n",
      "|Trigun: Badlands ...|Action|Animation|...| 106762|\n",
      "|Trigun: Badlands ...|Action|Animation|...| 106762|\n",
      "|Trigun: Badlands ...|Action|Animation|...| 106762|\n",
      "|Trigun: Badlands ...|Action|Animation|...| 106762|\n",
      "|Trigun: Badlands ...|Action|Animation|...| 106762|\n",
      "|Trigun: Badlands ...|Action|Animation|...| 106762|\n",
      "|Trigun: Badlands ...|Action|Animation|...| 106762|\n",
      "|Trigun: Badlands ...|Action|Animation|...| 106762|\n",
      "|Trigun: Badlands ...|Action|Animation|...| 106762|\n",
      "|Trigun: Badlands ...|Action|Animation|...| 106762|\n",
      "|Trigun: Badlands ...|Action|Animation|...| 106762|\n",
      "|Trigun: Badlands ...|Action|Animation|...| 106762|\n",
      "|Trigun: Badlands ...|Action|Animation|...| 106762|\n",
      "|Trigun: Badlands ...|Action|Animation|...| 106762|\n",
      "|Trigun: Badlands ...|Action|Animation|...| 106762|\n",
      "|Trigun: Badlands ...|Action|Animation|...| 106762|\n",
      "|Trigun: Badlands ...|Action|Animation|...| 106762|\n",
      "|Trigun: Badlands ...|Action|Animation|...| 106762|\n",
      "|Trigun: Badlands ...|Action|Animation|...| 106762|\n",
      "+--------------------+--------------------+-------+\n",
      "only showing top 20 rows"
     ]
    }
   ],
   "source": [
    "Mapfieldnamemetdata_node1656884427706.toDF().show()"
   ]
  },
  {
   "cell_type": "code",
   "execution_count": 55,
   "id": "a8d82674",
   "metadata": {},
   "outputs": [
    {
     "data": {
      "application/vnd.jupyter.widget-view+json": {
       "model_id": "",
       "version_major": 2,
       "version_minor": 0
      },
      "text/plain": [
       "FloatProgress(value=0.0, bar_style='info', description='Progress:', layout=Layout(height='25px', width='50%'),…"
      ]
     },
     "metadata": {},
     "output_type": "display_data"
    }
   ],
   "source": [
    "\n",
    "# Script generated for node Drop Duplicates Interactions\n",
    "DropDuplicatesInteractions_node1656884507578 = DynamicFrame.fromDF(\n",
    "    Mapfieldnamesinteractions_node1656884351305.toDF().dropDuplicates(),\n",
    "    glueContext,\n",
    "    \"DropDuplicatesInteractions_node1656884507578\",\n",
    ")\n",
    "\n",
    "# Script generated for node Drop Duplicates Metadata\n",
    "DropDuplicatesMetadata_node1656884924120 = DynamicFrame.fromDF(\n",
    "    Mapfieldnamemetdata_node1656884427706.toDF().dropDuplicates(),\n",
    "    glueContext,\n",
    "    \"DropDuplicatesMetadata_node1656884924120\",\n",
    ")"
   ]
  },
  {
   "cell_type": "code",
   "execution_count": 56,
   "id": "e7f7baa5",
   "metadata": {},
   "outputs": [
    {
     "data": {
      "application/vnd.jupyter.widget-view+json": {
       "model_id": "",
       "version_major": 2,
       "version_minor": 0
      },
      "text/plain": [
       "FloatProgress(value=0.0, bar_style='info', description='Progress:', layout=Layout(height='25px', width='50%'),…"
      ]
     },
     "metadata": {},
     "output_type": "display_data"
    }
   ],
   "source": [
    "\n",
    "single_part_interactions_dyf = DynamicFrame.fromDF(\n",
    "    DropDuplicatesInteractions_node1656884507578.toDF().repartition(1),\n",
    "    glueContext,\n",
    "    \"single_partition_interactions\",\n",
    ")\n",
    "\n",
    "single_part_metadata_dyf = DynamicFrame.fromDF(\n",
    "    DropDuplicatesMetadata_node1656884924120.toDF().repartition(1),\n",
    "    glueContext,\n",
    "    \"single_partition_metadata\",\n",
    ")"
   ]
  },
  {
   "cell_type": "code",
   "execution_count": 57,
   "id": "e63c9c91",
   "metadata": {},
   "outputs": [
    {
     "data": {
      "application/vnd.jupyter.widget-view+json": {
       "model_id": "",
       "version_major": 2,
       "version_minor": 0
      },
      "text/plain": [
       "FloatProgress(value=0.0, bar_style='info', description='Progress:', layout=Layout(height='25px', width='50%'),…"
      ]
     },
     "metadata": {},
     "output_type": "display_data"
    },
    {
     "name": "stdout",
     "output_type": "stream",
     "text": [
      "+-------+-------+----------+\n",
      "|ITEM_ID|USER_ID| TIMESTAMP|\n",
      "+-------+-------+----------+\n",
      "|   1148| 139748|1470763258|\n",
      "|   1148|  65528| 990856864|\n",
      "|   1148| 129275|1546054071|\n",
      "|   1148|  94982| 962991513|\n",
      "|   1148|  37247| 939296781|\n",
      "|   1148|  79770|1117817275|\n",
      "|   1148|  99432|1244587291|\n",
      "|   1148|  97245|1231713059|\n",
      "|   1148| 112361|1150059553|\n",
      "|   1148| 134752| 943967402|\n",
      "|   1148| 158085| 934389486|\n",
      "|   1148| 110175|1331335310|\n",
      "|   1148| 155388|1259258496|\n",
      "|   1148| 143063| 978475058|\n",
      "|   1148|  68239| 955188784|\n",
      "|   1148|   4450|1118813791|\n",
      "|   1148| 109069| 974754511|\n",
      "|   1148| 103506|1171737083|\n",
      "|   1148|  59569| 970069985|\n",
      "|   1148|  98712|1363110041|\n",
      "+-------+-------+----------+\n",
      "only showing top 20 rows"
     ]
    }
   ],
   "source": [
    "single_part_interactions_dyf.toDF().show()"
   ]
  },
  {
   "cell_type": "code",
   "execution_count": null,
   "id": "536708e7",
   "metadata": {},
   "outputs": [],
   "source": [
    "single_part_metadata_dyf.toDF().show()"
   ]
  },
  {
   "cell_type": "code",
   "execution_count": 58,
   "id": "30916d5b",
   "metadata": {},
   "outputs": [
    {
     "data": {
      "application/vnd.jupyter.widget-view+json": {
       "model_id": "",
       "version_major": 2,
       "version_minor": 0
      },
      "text/plain": [
       "FloatProgress(value=0.0, bar_style='info', description='Progress:', layout=Layout(height='25px', width='50%'),…"
      ]
     },
     "metadata": {},
     "output_type": "display_data"
    },
    {
     "name": "stdout",
     "output_type": "stream",
     "text": [
      "movie-lens/transformed/model_input/run-1657155226016-part-r-00000\n",
      "movie-lens/transformed/metadata/run-1657155245734-part-r-00000"
     ]
    }
   ],
   "source": [
    "\n",
    "# Script generated for node Rename Interactions file in S3\n",
    "RenameInteractionsfileinS3_node1656886003325 = RenameS3ItemsUsersData(\n",
    "    glueContext,\n",
    "    DynamicFrameCollection(\n",
    "        {\"single_partition_interactions\": single_part_interactions_dyf}, glueContext\n",
    "    ),\n",
    ")\n",
    "\n",
    "# Script generated for node Rename Metadata file in S3\n",
    "RenameMetadatafileinS3_node1656885522913 = RenameS3Metadata(\n",
    "    glueContext,\n",
    "    DynamicFrameCollection(\n",
    "        {\"single_partition_metadata\": single_part_metadata_dyf}, glueContext\n",
    "    ),\n",
    ")\n"
   ]
  },
  {
   "cell_type": "code",
   "execution_count": null,
   "id": "7a5b3862",
   "metadata": {},
   "outputs": [],
   "source": []
  }
 ],
 "metadata": {
  "kernelspec": {
   "display_name": "Sparkmagic (PySpark)",
   "language": "python",
   "name": "pysparkkernel"
  },
  "language_info": {
   "codemirror_mode": {
    "name": "python",
    "version": 3
   },
   "file_extension": ".py",
   "mimetype": "text/x-python",
   "name": "pyspark",
   "pygments_lexer": "python3"
  }
 },
 "nbformat": 4,
 "nbformat_minor": 5
}
